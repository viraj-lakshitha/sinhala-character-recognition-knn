{
 "cells": [
  {
   "cell_type": "markdown",
   "metadata": {
    "id": "cG0IFmCRHcnJ"
   },
   "source": [
    "## Sinhala Character Recognition using  K-Nearest Algorithum"
   ]
  },
  {
   "cell_type": "markdown",
   "metadata": {
    "id": "SGerwCZkLXaR"
   },
   "source": [
    "Only for 4 Character of the Sinhala Alphabet\n",
    "\n",
    "Dataset : https://drive.google.com/drive/u/0/folders/1gSwoiQTt0WC5x5MDn194_U6TNOa9BdyZ\n",
    "\n",
    "Resources : http://chamarisilva.blogspot.com/2015/05/sinhala-handwritten-character-dataset.html"
   ]
  },
  {
   "cell_type": "markdown",
   "metadata": {
    "id": "o5gxk3xbNaop"
   },
   "source": [
    "For 'අ' 'ඒ' 'ඉ' 'උ'Characters Only"
   ]
  },
  {
   "cell_type": "markdown",
   "metadata": {
    "id": "Z84rarXJOIIC"
   },
   "source": [
    "Preprocessing the Dataset"
   ]
  },
  {
   "cell_type": "code",
   "execution_count": 10,
   "metadata": {
    "colab": {
     "base_uri": "https://localhost:8080/"
    },
    "id": "V5yTdWYQOECL",
    "outputId": "89315e42-8444-45b2-b435-c7b30160b492"
   },
   "outputs": [
    {
     "name": "stdout",
     "output_type": "stream",
     "text": [
      "{'a': 0, 'i': 1, 'e': 2, 'u': 3}\n"
     ]
    }
   ],
   "source": [
    "# from google.colab import drive\n",
    "\n",
    "# drive.mount('/sinhala-character-data/')\n",
    "\n",
    "import os\n",
    "\n",
    "data_path='dataset'\n",
    "categories=os.listdir(data_path)\n",
    "labels=[i for i in range(len(categories))]\n",
    "categories_dict={'a':0,'i':1,'e':2,'u':3}\n",
    "print(category_dict)"
   ]
  },
  {
   "cell_type": "code",
   "execution_count": 11,
   "metadata": {
    "colab": {
     "base_uri": "https://localhost:8080/"
    },
    "id": "Atd_X7OSQMVU",
    "outputId": "31a73853-94c7-4d87-8834-c92f31e9bea4"
   },
   "outputs": [],
   "source": [
    "# import os\n",
    "# import numpy as np\n",
    "\n",
    "\n",
    "# data_path='/content/drive/MyDrive/sinhala-character-data'\n",
    "\n",
    "# categories=os.listdir(data_path)\n",
    "\n",
    "# labels=[i for i in range(len(categories))]\n",
    "# categories_dict = {'a':0,'u':1,'e':2,'i':3}\n",
    "# print(labels)\n",
    "# print(categories_dict)"
   ]
  },
  {
   "cell_type": "markdown",
   "metadata": {
    "id": "HtOx9vDcZqBc"
   },
   "source": [
    "Though this all the images are loaded and wait for each an every images\n",
    "This couldn't done from Google Colab because the Google Colab aren't any option to pop-up the windows. Use the file in jupyter notebook\n",
    "\n",
    "```\n",
    "import cv2\n",
    "\n",
    "for category in categories : # Go Thought the Categories\n",
    "  imgs_path=os.path.join(data_path,category) #Getting all the Paths of image folders\n",
    "  img_names=os.listdir(imgs_path) #Getting All the Images Names\n",
    "  #print(imgs_path,img_names)\n",
    "\n",
    "  for img_name in img_names :\n",
    "    img_path=os.path.join(imgs_path,img_name)\n",
    "    #print(img_path)\n",
    "    #img=cv2.imread(img_path)\n",
    "    #cv2.imshow('LIVE',img)\n",
    "    #k=cv2.waitKey(100)\n",
    "\n",
    "    # ECS Buttton in Unicodes\n",
    "    #if(k==27) :\n",
    "      #break\n",
    "#cv2.destroyAllWindows\n",
    "```\n",
    "\n"
   ]
  },
  {
   "cell_type": "code",
   "execution_count": 12,
   "metadata": {
    "id": "Ckah8CTIW6Zd"
   },
   "outputs": [],
   "source": [
    "import cv2\n",
    "data=[]\n",
    "target=[]\n",
    "for category in categories : # Go Thought the Categories\n",
    "  imgs_path=os.path.join(data_path,category) #Getting all the Paths of image folders\n",
    "  img_names=os.listdir(imgs_path) #Getting All the Images Names\n",
    "  #print(imgs_path,img_names)\n",
    "\n",
    "  for img_name in img_names :\n",
    "    img_path=os.path.join(imgs_path,img_name)\n",
    "    img=cv2.imread(img_path,0)\n",
    "    img=cv2.resize(img,(8,8))\n",
    "    data.append(img)\n",
    "    target.append(categories_dict[category])\n"
   ]
  },
  {
   "cell_type": "code",
   "execution_count": 13,
   "metadata": {
    "colab": {
     "base_uri": "https://localhost:8080/"
    },
    "id": "UdBE1JZRbJkU",
    "outputId": "81c7766f-c722-4b9f-b730-3a26b3733f20"
   },
   "outputs": [
    {
     "name": "stdout",
     "output_type": "stream",
     "text": [
      "192 192\n"
     ]
    }
   ],
   "source": [
    "print(len(data),len(target))"
   ]
  },
  {
   "cell_type": "code",
   "execution_count": 14,
   "metadata": {
    "id": "V0652_iAcPUF"
   },
   "outputs": [],
   "source": [
    "import numpy as np\n",
    "\n",
    "data=np.array(data)\n",
    "data=data.reshape(data.shape[0],data.shape[1]*data.shape[2])\n",
    "target=np.array(target)\n",
    "\n",
    "np.save('data',data)\n",
    "np.save('target',target)"
   ]
  },
  {
   "cell_type": "code",
   "execution_count": 15,
   "metadata": {
    "colab": {
     "base_uri": "https://localhost:8080/"
    },
    "id": "uTer4B6gdxln",
    "outputId": "a670a0e6-6043-4f91-81dd-ee508de588b2"
   },
   "outputs": [
    {
     "name": "stdout",
     "output_type": "stream",
     "text": [
      "(192,)\n"
     ]
    }
   ],
   "source": [
    "print(target.shape)"
   ]
  },
  {
   "cell_type": "code",
   "execution_count": 16,
   "metadata": {
    "id": "nVWoW5FXeN6-"
   },
   "outputs": [
    {
     "name": "stdout",
     "output_type": "stream",
     "text": [
      "(192, 64)\n",
      "(192,)\n"
     ]
    }
   ],
   "source": [
    "data=np.load('data.npy')\n",
    "target=np.load('target.npy')\n",
    "\n",
    "print(data.shape)\n",
    "print(target.shape)"
   ]
  },
  {
   "cell_type": "code",
   "execution_count": 17,
   "metadata": {
    "id": "ue6nD3lFer1T"
   },
   "outputs": [],
   "source": [
    "from sklearn.model_selection import train_test_split\n",
    "\n",
    "train_data,test_data,train_target,test_target=train_test_split(data,target,test_size=0.3)"
   ]
  },
  {
   "cell_type": "code",
   "execution_count": 18,
   "metadata": {
    "id": "J9QofPxxfC_-"
   },
   "outputs": [],
   "source": [
    "from sklearn.neighbors import KNeighborsClassifier\n",
    "\n",
    "model=KNeighborsClassifier()"
   ]
  },
  {
   "cell_type": "code",
   "execution_count": 19,
   "metadata": {
    "colab": {
     "base_uri": "https://localhost:8080/"
    },
    "id": "eHvyQFoefOit",
    "outputId": "f54e4b70-1ec2-4452-991f-0ba429086463"
   },
   "outputs": [
    {
     "data": {
      "text/plain": [
       "KNeighborsClassifier()"
      ]
     },
     "execution_count": 19,
     "metadata": {},
     "output_type": "execute_result"
    }
   ],
   "source": [
    "model.fit(train_data,train_target)"
   ]
  },
  {
   "cell_type": "code",
   "execution_count": 20,
   "metadata": {
    "id": "mU6e2oPRfU9h"
   },
   "outputs": [],
   "source": [
    "predicted_target=model.predict(test_data)"
   ]
  },
  {
   "cell_type": "code",
   "execution_count": 21,
   "metadata": {
    "colab": {
     "base_uri": "https://localhost:8080/"
    },
    "id": "3EmgcAFtfgjP",
    "outputId": "938740dd-4730-4aca-d994-72c6d4fc37f4"
   },
   "outputs": [
    {
     "name": "stdout",
     "output_type": "stream",
     "text": [
      "Accuracy :  0.7586206896551724\n"
     ]
    }
   ],
   "source": [
    "from sklearn.metrics import accuracy_score,classification_report\n",
    "\n",
    "acc=accuracy_score(test_target,predicted_target)\n",
    "print('Accuracy : ',acc)"
   ]
  },
  {
   "cell_type": "code",
   "execution_count": 22,
   "metadata": {
    "colab": {
     "base_uri": "https://localhost:8080/"
    },
    "id": "CeG9GaJXgGcD",
    "outputId": "db732f1f-aac7-4e6c-8db7-33ecc00ec20d"
   },
   "outputs": [
    {
     "name": "stdout",
     "output_type": "stream",
     "text": [
      "              precision    recall  f1-score   support\n",
      "\n",
      "           0       0.73      0.80      0.76        20\n",
      "           1       0.57      0.89      0.70         9\n",
      "           2       0.91      0.59      0.71        17\n",
      "           3       0.91      0.83      0.87        12\n",
      "\n",
      "    accuracy                           0.76        58\n",
      "   macro avg       0.78      0.78      0.76        58\n",
      "weighted avg       0.79      0.76      0.76        58\n",
      "\n"
     ]
    }
   ],
   "source": [
    "classifi_report=classification_report(test_target,predicted_target)\n",
    "print(classifi_report)"
   ]
  },
  {
   "cell_type": "code",
   "execution_count": 23,
   "metadata": {
    "colab": {
     "base_uri": "https://localhost:8080/"
    },
    "id": "fwxBN54ig0nb",
    "outputId": "c75c3d11-af7e-44f3-e308-49939720b2d8"
   },
   "outputs": [
    {
     "data": {
      "text/plain": [
       "['sinhala-character-knn.sav']"
      ]
     },
     "execution_count": 23,
     "metadata": {},
     "output_type": "execute_result"
    }
   ],
   "source": [
    "import joblib\n",
    "\n",
    "joblib.dump(model,'sinhala-character-knn.sav')"
   ]
  }
 ],
 "metadata": {
  "colab": {
   "collapsed_sections": [],
   "name": "sinhala-character-recognition-knn",
   "provenance": []
  },
  "kernelspec": {
   "display_name": "Python 3",
   "language": "python",
   "name": "python3"
  },
  "language_info": {
   "codemirror_mode": {
    "name": "ipython",
    "version": 3
   },
   "file_extension": ".py",
   "mimetype": "text/x-python",
   "name": "python",
   "nbconvert_exporter": "python",
   "pygments_lexer": "ipython3",
   "version": "3.8.3"
  }
 },
 "nbformat": 4,
 "nbformat_minor": 1
}
